{
 "cells": [
  {
   "cell_type": "code",
   "execution_count": 4,
   "metadata": {},
   "outputs": [
    {
     "ename": "UndefVarError",
     "evalue": "UndefVarError: `install` not defined",
     "output_type": "error",
     "traceback": [
      "UndefVarError: `install` not defined\n"
     ]
    }
   ],
   "source": [
    "import proj_1_module as prj1\n",
    "import numpy as np\n",
    "import matplotlib.pyplot as plt"
   ]
  },
  {
   "cell_type": "markdown",
   "metadata": {},
   "source": [
    "# Project 1\n",
    "\n",
    "## 1. Code tests for Euler, RK2, and RK4 using simple population model\n",
    "\n",
    "$$\\frac{dP}{dt}(t) = (B-D)P(t),\\ P(0) \\equiv P_o$$"
   ]
  },
  {
   "cell_type": "markdown",
   "metadata": {},
   "source": [
    "For this population model, $B_1 = 0.57, D_1 = 0.88$ & $B_2 = 0.99, D_2 = 0.45$.\n",
    "\n",
    "* The following results were obtained for various h (step sizes), and it's shown how given h sufficiently small, one can obtain an arbitrarily good agreement with the function $P(t) = A\\exp((B-D)t)$, the exact solutions of the previous function, by graphing a series of plots obtained by the different methods (Euler, RK2, RK4), in contrast with the exact solutions, first using $B_1, D_1$ (the blue line is the approximation and the orange line is the analytical solution)."
   ]
  },
  {
   "cell_type": "code",
   "execution_count": null,
   "metadata": {},
   "outputs": [],
   "source": [
    "sol = prj1.dynamics_solve([lambda t,x: ((b1-d1)*x)], h = 0.28)\n",
    "\n",
    "plt.title(\"Comparison of solutions with h = 0.7\")\n",
    "y =[np.exp((b1-d1)*t) for t in sol[0]]\n",
    "plt.plot(sol[0],sol[1])\n",
    "plt.plot(sol[0],y)"
   ]
  },
  {
   "cell_type": "code",
   "execution_count": null,
   "metadata": {},
   "outputs": [],
   "source": [
    "sol = prj1.dynamics_solve([lambda t,x: ((b1-d1)*x)], h = 0.029)\n",
    "\n",
    "plt.title(\"Comparison of solutions with h = 0.29\")\n",
    "y =[np.exp((b1-d1)*t) for t in sol[0]]\n",
    "plt.plot(sol[0],sol[1])\n",
    "plt.plot(sol[0],y)"
   ]
  },
  {
   "cell_type": "code",
   "execution_count": null,
   "metadata": {},
   "outputs": [],
   "source": [
    "sol = prj1.dynamics_solve([lambda t,x: ((b1-d1)*x)], h = 0.007)\n",
    "\n",
    "plt.title(\"Comparison of solutions with h = 0.007\")\n",
    "\n",
    "y =[np.exp((b1-d1)*t) for t in sol[0]]\n",
    "plt.plot(sol[0],sol[1])\n",
    "plt.plot(sol[0],y)"
   ]
  },
  {
   "cell_type": "markdown",
   "metadata": {},
   "source": [
    "Then using $B_2, D_2$."
   ]
  },
  {
   "cell_type": "code",
   "execution_count": null,
   "metadata": {},
   "outputs": [],
   "source": [
    "sol = prj1.dynamics_solve([lambda t,x: ((b2-d2)*x)], h = 0.5)\n",
    "\n",
    "plt.title(\"Comparison of solutions with h = 0.5\")\n",
    "y =[np.exp((b2-d2)*t) for t in sol[0]]\n",
    "plt.plot(sol[0],sol[1])\n",
    "plt.plot(sol[0],y)"
   ]
  },
  {
   "cell_type": "code",
   "execution_count": null,
   "metadata": {},
   "outputs": [],
   "source": [
    "sol = prj1.dynamics_solve([lambda t,x: ((b2-d2)*x)], h = 0.01)\n",
    "\n",
    "plt.title(\"Comparison of solutions with h = 0.01\")\n",
    "y =[np.exp((b2-d2)*t) for t in sol[0]]\n",
    "plt.plot(sol[0],sol[1])\n",
    "plt.plot(sol[0],y)"
   ]
  },
  {
   "cell_type": "code",
   "execution_count": null,
   "metadata": {},
   "outputs": [],
   "source": [
    "sol = prj1.dynamics_solve([lambda t,x: ((b2-d2)*x)], h = 0.007)\n",
    "\n",
    "plt.title(\"Comparison of solutions with h = 0.007\")\n",
    "y =[np.exp((b2-d2)*t) for t in sol[0]]\n",
    "plt.plot(sol[0],sol[1])\n",
    "plt.plot(sol[0],y)"
   ]
  },
  {
   "cell_type": "markdown",
   "metadata": {},
   "source": [
    "It can be shown that for values of h sufficiently close to 0, there will be an increasingly better aproximation using Euler. Particularly, $h << \\vert B-D\\vert$ for convergence to start appearing."
   ]
  },
  {
   "cell_type": "markdown",
   "metadata": {},
   "source": [
    "This process holds true for RK2."
   ]
  },
  {
   "cell_type": "code",
   "execution_count": 1,
   "metadata": {},
   "outputs": [
    {
     "ename": "Base.Meta.ParseError",
     "evalue": "ParseError:\n# Error @ c:\\Users\\Eduardo.PC\\Documents\\UNAM 2020-24\\NOVENO SEMESTRE\\PHYSICS 170N\\Project 1\\jl_notebook_cell_df34fa98e69747e1a8f8a730347b8e2f_X21sZmlsZQ==.jl:1:36\nsol = prj1.dynamics_solve([lambda t,x: ((b1-d1)*x)], h = 0.7, method = \"RK2\")\r\n#                                  ╙ ── unexpected comma in array expression",
     "output_type": "error",
     "traceback": [
      "ParseError:\n",
      "# Error @ c:\\Users\\Eduardo.PC\\Documents\\UNAM 2020-24\\NOVENO SEMESTRE\\PHYSICS 170N\\Project 1\\jl_notebook_cell_df34fa98e69747e1a8f8a730347b8e2f_X21sZmlsZQ==.jl:1:36\n",
      "sol = prj1.dynamics_solve([lambda t,x: ((b1-d1)*x)], h = 0.7, method = \"RK2\")\r\n",
      "#                                  ╙ ── unexpected comma in array expression\n",
      "\n",
      "Stacktrace:\n",
      " [1] top-level scope\n",
      "   @ c:\\Users\\Eduardo.PC\\Documents\\UNAM 2020-24\\NOVENO SEMESTRE\\PHYSICS 170N\\Project 1\\jl_notebook_cell_df34fa98e69747e1a8f8a730347b8e2f_X21sZmlsZQ==.jl:1"
     ]
    }
   ],
   "source": [
    "sol = prj1.dynamics_solve([lambda t,x: ((b1-d1)*x)], h = 0.28, method = \"RK2\")\n",
    "\n",
    "\n",
    "plt.title(\"Comparison of solutions with h = 0.28\")\n",
    "y =[np.exp((b2-d2)*t) for t in sol[0]]\n",
    "plt.plot(sol[0],sol[1])\n",
    "plt.plot(sol[0],y)"
   ]
  },
  {
   "cell_type": "code",
   "execution_count": null,
   "metadata": {},
   "outputs": [],
   "source": [
    "sol = prj1.dynamics_solve([lambda t,x: ((b1-d1)*x)], h = 0.029, method = \"RK2\")\n",
    "\n",
    "plt.title(\"Comparison of solutions with h = 0.029\")\n",
    "y =[np.exp((b1-d1)*t) for t in sol[0]]\n",
    "plt.plot(sol[0],sol[1])\n",
    "plt.plot(sol[0],y)"
   ]
  },
  {
   "cell_type": "code",
   "execution_count": null,
   "metadata": {},
   "outputs": [],
   "source": [
    "sol = prj1.dynamics_solve([lambda t,x: ((b2-d2)*x)], h = 0.01, method = \"RK2\")\n",
    "\n",
    "plt.title(\"Comparison of solutions with h = 0.01\")\n",
    "y =[np.exp((b2-d2)*t) for t in sol[0]]\n",
    "plt.plot(sol[0],sol[1])\n",
    "plt.plot(sol[0],y)"
   ]
  },
  {
   "cell_type": "code",
   "execution_count": null,
   "metadata": {},
   "outputs": [],
   "source": [
    "sol = prj1.dynamics_solve([lambda t,x: ((b1-d1)*x)], h = 0.5, method = \"RK2\")\n",
    "\n",
    "plt.title(\"Comparison of solutions with h = 0.5\")\n",
    "y =[np.exp((b1-d1)*t) for t in sol[0]]\n",
    "plt.plot(sol[0],sol[1])\n",
    "plt.plot(sol[0],y)"
   ]
  },
  {
   "cell_type": "code",
   "execution_count": null,
   "metadata": {},
   "outputs": [],
   "source": [
    "sol = prj1.dynamics_solve([lambda t,x: ((b1-d1)*x)], h = 0.007, method = \"RK2\")\n",
    "\n",
    "plt.title(\"Comparison of solutions with h = 0.007\")\n",
    "\n",
    "y =[np.exp((b1-d1)*t) for t in sol[0]]\n",
    "plt.plot(sol[0],sol[1])\n",
    "plt.plot(sol[0],y)"
   ]
  },
  {
   "cell_type": "markdown",
   "metadata": {},
   "source": [
    "And RK4."
   ]
  },
  {
   "cell_type": "code",
   "execution_count": null,
   "metadata": {},
   "outputs": [],
   "source": [
    "sol = prj1.dynamics_solve([lambda t,x: ((b1-d1)*x)], h = 0.28, method = \"RK4\")\n",
    "\n",
    "\n",
    "plt.title(\"Comparison of solutions with h = 0.28\")\n",
    "y =[np.exp((b2-d2)*t) for t in sol[0]]\n",
    "plt.plot(sol[0],sol[1])\n",
    "plt.plot(sol[0],y)"
   ]
  },
  {
   "cell_type": "code",
   "execution_count": null,
   "metadata": {},
   "outputs": [],
   "source": [
    "sol = prj1.dynamics_solve([lambda t,x: ((b1-d1)*x)], h = 0.029, method = \"RK4\")\n",
    "\n",
    "plt.title(\"Comparison of solutions with h = 0.029\")\n",
    "y =[np.exp((b1-d1)*t) for t in sol[0]]\n",
    "plt.plot(sol[0],sol[1])\n",
    "plt.plot(sol[0],y)"
   ]
  },
  {
   "cell_type": "code",
   "execution_count": null,
   "metadata": {},
   "outputs": [],
   "source": [
    "sol = prj1.dynamics_solve([lambda t,x: ((b2-d2)*x)], h = 0.01, method = \"RK4\")\n",
    "\n",
    "plt.title(\"Comparison of solutions with h = 0.01\")\n",
    "y =[np.exp((b2-d2)*t) for t in sol[0]]\n",
    "plt.plot(sol[0],sol[1])\n",
    "plt.plot(sol[0],y)"
   ]
  },
  {
   "cell_type": "code",
   "execution_count": null,
   "metadata": {},
   "outputs": [],
   "source": [
    "sol = prj1.dynamics_solve([lambda t,x: ((b1-d1)*x)], h = 0.5, method = \"RK4\")\n",
    "\n",
    "plt.title(\"Comparison of solutions with h = 0.5\")\n",
    "y =[np.exp((b1-d1)*t) for t in sol[0]]\n",
    "plt.plot(sol[0],sol[1])\n",
    "plt.plot(sol[0],y)"
   ]
  },
  {
   "cell_type": "code",
   "execution_count": null,
   "metadata": {},
   "outputs": [],
   "source": [
    "sol = prj1.dynamics_solve([lambda t,x: ((b1-d1)*x)], h = 0.007, method = \"RK4\")\n",
    "\n",
    "plt.title(\"Comparison of solutions with h = 0.007\")\n",
    "\n",
    "y =[np.exp((b1-d1)*t) for t in sol[0]]\n",
    "plt.plot(sol[0],sol[1])\n",
    "plt.plot(sol[0],y)"
   ]
  },
  {
   "cell_type": "markdown",
   "metadata": {},
   "source": [
    "## 2. Code tests for Euler, RK2, Symplectic Euler, Stormer Verlet and RK4 for the system:\n",
    "\n",
    "$$\\frac{dp}{dt}(t) + kx = 0$$\n",
    "\n",
    "$$\\frac{dx}{dt}(t) - \\frac{p}{m} = 0$$"
   ]
  },
  {
   "cell_type": "markdown",
   "metadata": {},
   "source": [
    "## Tests for fixed N of oscillation periods"
   ]
  }
 ],
 "metadata": {
  "kernelspec": {
   "display_name": "Julia 1.10.4",
   "language": "julia",
   "name": "julia-1.10"
  },
  "language_info": {
   "file_extension": ".jl",
   "mimetype": "application/julia",
   "name": "julia",
   "version": "1.10.4"
  }
 },
 "nbformat": 4,
 "nbformat_minor": 2
}
