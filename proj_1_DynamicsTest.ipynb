{
 "cells": [
  {
   "cell_type": "markdown",
   "metadata": {},
   "source": [
    "# Project 1\n",
    "\n",
    "## 1. Code tests for Euler, RK2, and RK4 using simple population model\n",
    "\n",
    "$$\\frac{dP}{dt}(t) = (B-D)P(t),\\ P(0) \\equiv P_o$$"
   ]
  },
  {
   "cell_type": "markdown",
   "metadata": {},
   "source": [
    "For this population model, $B_1 = 0.57, D_1 = 0.88$ & $B_2 = 0.99, D_2 = 0.45$.\n",
    "\n",
    "* The following results were obtained for various h (step sizes), and it's shown how given h sufficiently small, one can obtain an arbitrarily good agreement with the function $P(t) = A\\exp((B-D)t)$, the exact solution of the previous function, by graphing a series of plots obtained by the different methods (Euler, RK2, RK4), in contrast with the exact solution, first using $B_1, D_1$."
   ]
  },
  {
   "cell_type": "markdown",
   "metadata": {},
   "source": [
    "Then using $B_2, D_2$."
   ]
  },
  {
   "cell_type": "markdown",
   "metadata": {},
   "source": [
    "We see that this first approximation of population growth has the defect that for large timescales, the growth goes either to 0 or gets monotonically larger."
   ]
  },
  {
   "cell_type": "markdown",
   "metadata": {},
   "source": [
    "## 2. Code tests for Euler, RK2, Symplectic Euler, Stormer Verlet and RK4 for the system:\n",
    "\n",
    "$$\\frac{dp}{dt}(t) + kx = 0$$\n",
    "\n",
    "$$\\frac{dx}{dt}(t) - \\frac{p}{m} = 0$$"
   ]
  }
 ],
 "metadata": {
  "language_info": {
   "name": "python"
  }
 },
 "nbformat": 4,
 "nbformat_minor": 2
}
