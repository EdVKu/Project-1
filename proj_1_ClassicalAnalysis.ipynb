{
 "cells": [
  {
   "cell_type": "markdown",
   "metadata": {},
   "source": [
    "# Project 1 \n",
    "\n",
    "### Code tests of Euler's Method, Runge-Kutta 2 and Runge-Kutta 4 for the simple population model problem\n",
    "\n",
    "$$\\frac{dP}{dt}(t) = (B-D)P(t),\\ P(0) \\equiv P_o$$\n",
    "\n",
    "\n"
   ]
  }
 ],
 "metadata": {
  "language_info": {
   "name": "python"
  }
 },
 "nbformat": 4,
 "nbformat_minor": 2
}
