{
 "cells": [
  {
   "cell_type": "markdown",
   "metadata": {},
   "source": [
    "# Project 1\n",
    "\n",
    "## 1. Code tests for Euler, RK2, and RK4 using simple population model\n",
    "\n",
    "$$\\frac{dP}{dt}(t) = (B-D)P(t),\\ P(0) \\equiv P_o$$"
   ]
  }
 ],
 "metadata": {
  "language_info": {
   "name": "python"
  }
 },
 "nbformat": 4,
 "nbformat_minor": 2
}
